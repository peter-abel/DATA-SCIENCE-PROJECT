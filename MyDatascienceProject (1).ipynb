{
  "nbformat": 4,
  "nbformat_minor": 0,
  "metadata": {
    "colab": {
      "provenance": [],
      "collapsed_sections": []
    },
    "kernelspec": {
      "name": "python3",
      "display_name": "Python 3"
    },
    "language_info": {
      "name": "python"
    }
  },
  "cells": [
    {
      "cell_type": "markdown",
      "source": [
        "#A LOGISTIC REGRESSION MODEL ON WHAT PRODUCT KENYAN RETAILERS SHOULD STOCK IN AN INFLATIONARY MARKET."
      ],
      "metadata": {
        "id": "oohUniFvJQY2"
      }
    },
    {
      "cell_type": "markdown",
      "source": [
        "#Problem statement.\n",
        "\n",
        "With high inflationary environment and high cost of goods,  consumers are facing pressure on what retail goods to prioritize over. This makes it hard for retailers who are also budgeting for what goods to stock up on to prevent massive losses and to hopefully ride out the harsh economic times.\n"
      ],
      "metadata": {
        "id": "_e-1SB1uX_x0"
      }
    },
    {
      "cell_type": "markdown",
      "source": [
        "**Objectives.**\n",
        "\n",
        "\n",
        "*   To find relevant data for the study.\n",
        "* To identify features necessary for this model\n",
        "* To create  the model\n",
        "*  To test this data on a test data set\n",
        "\n",
        "**Aim.**\n",
        "\n",
        "The aim of this project is to create a model for small or large scale retailers to use, so as to identify what products to stock up on based on the products qualities and consumer behavior as the features, and an aggregate score as a target."
      ],
      "metadata": {
        "id": "6BSm12zHUtHO"
      }
    },
    {
      "cell_type": "markdown",
      "source": [
        "#DATA\n",
        "The data used in the study was generated from mockaroo all with values ranging from 0 to 1 so as to indicate the quantitative value of the features used in probability form.\n",
        "\n",
        "#Features\n",
        "Features used in the data include: 'Brand Loyalty',\t'Purchase Frequency',\t'Profit margin',\t'Quality',\t'sale opportunities',\t'resale value',  'after sale service', \t'competition',  'Tax rate', \t'score'. All being factors that affect the products perfomance in the market and also reflect consumer behaviour.\n",
        "Products that contain these features include:\n",
        "* Convenience products\n",
        "* Shopping products\n",
        "* Specialty products\n",
        "* Unsought products\n",
        "\n",
        "\n",
        "The 'score' column is an aggregate of all the features and subtracting features that are undesirable or would be costly for a retailer eg. 'after sale service', \t'competition',  'Tax rate'. \n"
      ],
      "metadata": {
        "id": "z-9RIIi8wYIp"
      }
    },
    {
      "cell_type": "markdown",
      "source": [
        "**Logistic Regression Assumptions**\n",
        "\n",
        " \n",
        "\n",
        "*   The independent variables should be independent of each other. That is, the model should have little or no multicollinearity. \n",
        "\n",
        "*   Binary logistic regression requires the dependent variable to be binary.\n",
        "*   For a binary regression, the factor level 1 of the dependent variable should represent the desired outcome.\n",
        "\n",
        "\n",
        "*   Only the meaningful variables should be included.\n",
        "\n",
        "*   The independent variables are linearly related to the log odds.\n",
        "\n",
        "\n",
        "\n"
      ],
      "metadata": {
        "id": "jTVWzwmLyPK9"
      }
    },
    {
      "cell_type": "markdown",
      "source": [
        "#I will be using the imported libraries below \n"
      ],
      "metadata": {
        "id": "pUt5Bd-GIA_q"
      }
    },
    {
      "cell_type": "code",
      "source": [
        "import pandas as pd\n",
        "from matplotlib import pyplot as plt\n",
        "import seaborn as sns\n",
        "from sklearn.linear_model import LogisticRegression\n",
        "from sklearn.model_selection import train_test_split\n",
        "from sklearn.metrics import accuracy_score\n",
        "from sklearn.metrics import classification_report\n"
      ],
      "metadata": {
        "id": "Zfr4mCArcToi"
      },
      "execution_count": 14,
      "outputs": []
    },
    {
      "cell_type": "markdown",
      "source": [
        "\n",
        "#This is how to open the data using pandas module."
      ],
      "metadata": {
        "id": "xns6qf-xouf0"
      }
    },
    {
      "cell_type": "code",
      "source": [
        "df = pd.read_csv(\"/content/PROJECT_DATA.csv\")\n",
        "df"
      ],
      "metadata": {
        "colab": {
          "base_uri": "https://localhost:8080/",
          "height": 485
        },
        "id": "6wUn8ND1K0Ok",
        "outputId": "d94b88e2-a5cc-488b-bbc3-d23013624122"
      },
      "execution_count": 3,
      "outputs": [
        {
          "output_type": "execute_result",
          "data": {
            "text/plain": [
              "    Brand Loyalty  Purchase Frequency  Profit margin  Quality  \\\n",
              "0            0.82                0.07           0.18     0.19   \n",
              "1            0.77                0.40           0.69     0.10   \n",
              "2            0.01                0.79           0.84     0.09   \n",
              "3            0.83                0.40           0.66     0.42   \n",
              "4            0.67                0.96           0.67     0.40   \n",
              "..            ...                 ...            ...      ...   \n",
              "95           0.58                0.83           0.93     0.47   \n",
              "96           0.32                0.97           0.59     0.42   \n",
              "97           0.91                0.65           0.98     0.92   \n",
              "98           0.38                0.97           0.75     0.16   \n",
              "99           0.57                0.49           0.65     0.55   \n",
              "\n",
              "    sale opportunities  resale value  after sale service  competition  \\\n",
              "0                 0.12          0.46                0.24         0.06   \n",
              "1                 0.03          0.01                0.02         0.51   \n",
              "2                 0.10          0.53                0.03         0.41   \n",
              "3                 0.32          0.11                0.16         0.13   \n",
              "4                 0.22          0.44                0.04         0.47   \n",
              "..                 ...           ...                 ...          ...   \n",
              "95                0.59          0.05                0.16         0.45   \n",
              "96                0.29          0.16                0.20         0.09   \n",
              "97                0.37          0.08                0.05         0.05   \n",
              "98                0.44          0.45                0.03         0.31   \n",
              "99                0.94          0.53                0.03         0.27   \n",
              "\n",
              "    Tax rate  score  \n",
              "0       0.30   1.24  \n",
              "1       0.13   1.34  \n",
              "2       0.19   1.73  \n",
              "3       0.01   2.44  \n",
              "4       0.24   2.61  \n",
              "..       ...    ...  \n",
              "95      0.29   2.55  \n",
              "96      0.19   2.27  \n",
              "97      0.24   3.57  \n",
              "98      0.03   2.78  \n",
              "99      0.23   3.20  \n",
              "\n",
              "[100 rows x 10 columns]"
            ],
            "text/html": [
              "\n",
              "  <div id=\"df-58a9dd4c-eeb3-4fc2-b081-b418f64d5cb6\">\n",
              "    <div class=\"colab-df-container\">\n",
              "      <div>\n",
              "<style scoped>\n",
              "    .dataframe tbody tr th:only-of-type {\n",
              "        vertical-align: middle;\n",
              "    }\n",
              "\n",
              "    .dataframe tbody tr th {\n",
              "        vertical-align: top;\n",
              "    }\n",
              "\n",
              "    .dataframe thead th {\n",
              "        text-align: right;\n",
              "    }\n",
              "</style>\n",
              "<table border=\"1\" class=\"dataframe\">\n",
              "  <thead>\n",
              "    <tr style=\"text-align: right;\">\n",
              "      <th></th>\n",
              "      <th>Brand Loyalty</th>\n",
              "      <th>Purchase Frequency</th>\n",
              "      <th>Profit margin</th>\n",
              "      <th>Quality</th>\n",
              "      <th>sale opportunities</th>\n",
              "      <th>resale value</th>\n",
              "      <th>after sale service</th>\n",
              "      <th>competition</th>\n",
              "      <th>Tax rate</th>\n",
              "      <th>score</th>\n",
              "    </tr>\n",
              "  </thead>\n",
              "  <tbody>\n",
              "    <tr>\n",
              "      <th>0</th>\n",
              "      <td>0.82</td>\n",
              "      <td>0.07</td>\n",
              "      <td>0.18</td>\n",
              "      <td>0.19</td>\n",
              "      <td>0.12</td>\n",
              "      <td>0.46</td>\n",
              "      <td>0.24</td>\n",
              "      <td>0.06</td>\n",
              "      <td>0.30</td>\n",
              "      <td>1.24</td>\n",
              "    </tr>\n",
              "    <tr>\n",
              "      <th>1</th>\n",
              "      <td>0.77</td>\n",
              "      <td>0.40</td>\n",
              "      <td>0.69</td>\n",
              "      <td>0.10</td>\n",
              "      <td>0.03</td>\n",
              "      <td>0.01</td>\n",
              "      <td>0.02</td>\n",
              "      <td>0.51</td>\n",
              "      <td>0.13</td>\n",
              "      <td>1.34</td>\n",
              "    </tr>\n",
              "    <tr>\n",
              "      <th>2</th>\n",
              "      <td>0.01</td>\n",
              "      <td>0.79</td>\n",
              "      <td>0.84</td>\n",
              "      <td>0.09</td>\n",
              "      <td>0.10</td>\n",
              "      <td>0.53</td>\n",
              "      <td>0.03</td>\n",
              "      <td>0.41</td>\n",
              "      <td>0.19</td>\n",
              "      <td>1.73</td>\n",
              "    </tr>\n",
              "    <tr>\n",
              "      <th>3</th>\n",
              "      <td>0.83</td>\n",
              "      <td>0.40</td>\n",
              "      <td>0.66</td>\n",
              "      <td>0.42</td>\n",
              "      <td>0.32</td>\n",
              "      <td>0.11</td>\n",
              "      <td>0.16</td>\n",
              "      <td>0.13</td>\n",
              "      <td>0.01</td>\n",
              "      <td>2.44</td>\n",
              "    </tr>\n",
              "    <tr>\n",
              "      <th>4</th>\n",
              "      <td>0.67</td>\n",
              "      <td>0.96</td>\n",
              "      <td>0.67</td>\n",
              "      <td>0.40</td>\n",
              "      <td>0.22</td>\n",
              "      <td>0.44</td>\n",
              "      <td>0.04</td>\n",
              "      <td>0.47</td>\n",
              "      <td>0.24</td>\n",
              "      <td>2.61</td>\n",
              "    </tr>\n",
              "    <tr>\n",
              "      <th>...</th>\n",
              "      <td>...</td>\n",
              "      <td>...</td>\n",
              "      <td>...</td>\n",
              "      <td>...</td>\n",
              "      <td>...</td>\n",
              "      <td>...</td>\n",
              "      <td>...</td>\n",
              "      <td>...</td>\n",
              "      <td>...</td>\n",
              "      <td>...</td>\n",
              "    </tr>\n",
              "    <tr>\n",
              "      <th>95</th>\n",
              "      <td>0.58</td>\n",
              "      <td>0.83</td>\n",
              "      <td>0.93</td>\n",
              "      <td>0.47</td>\n",
              "      <td>0.59</td>\n",
              "      <td>0.05</td>\n",
              "      <td>0.16</td>\n",
              "      <td>0.45</td>\n",
              "      <td>0.29</td>\n",
              "      <td>2.55</td>\n",
              "    </tr>\n",
              "    <tr>\n",
              "      <th>96</th>\n",
              "      <td>0.32</td>\n",
              "      <td>0.97</td>\n",
              "      <td>0.59</td>\n",
              "      <td>0.42</td>\n",
              "      <td>0.29</td>\n",
              "      <td>0.16</td>\n",
              "      <td>0.20</td>\n",
              "      <td>0.09</td>\n",
              "      <td>0.19</td>\n",
              "      <td>2.27</td>\n",
              "    </tr>\n",
              "    <tr>\n",
              "      <th>97</th>\n",
              "      <td>0.91</td>\n",
              "      <td>0.65</td>\n",
              "      <td>0.98</td>\n",
              "      <td>0.92</td>\n",
              "      <td>0.37</td>\n",
              "      <td>0.08</td>\n",
              "      <td>0.05</td>\n",
              "      <td>0.05</td>\n",
              "      <td>0.24</td>\n",
              "      <td>3.57</td>\n",
              "    </tr>\n",
              "    <tr>\n",
              "      <th>98</th>\n",
              "      <td>0.38</td>\n",
              "      <td>0.97</td>\n",
              "      <td>0.75</td>\n",
              "      <td>0.16</td>\n",
              "      <td>0.44</td>\n",
              "      <td>0.45</td>\n",
              "      <td>0.03</td>\n",
              "      <td>0.31</td>\n",
              "      <td>0.03</td>\n",
              "      <td>2.78</td>\n",
              "    </tr>\n",
              "    <tr>\n",
              "      <th>99</th>\n",
              "      <td>0.57</td>\n",
              "      <td>0.49</td>\n",
              "      <td>0.65</td>\n",
              "      <td>0.55</td>\n",
              "      <td>0.94</td>\n",
              "      <td>0.53</td>\n",
              "      <td>0.03</td>\n",
              "      <td>0.27</td>\n",
              "      <td>0.23</td>\n",
              "      <td>3.20</td>\n",
              "    </tr>\n",
              "  </tbody>\n",
              "</table>\n",
              "<p>100 rows × 10 columns</p>\n",
              "</div>\n",
              "      <button class=\"colab-df-convert\" onclick=\"convertToInteractive('df-58a9dd4c-eeb3-4fc2-b081-b418f64d5cb6')\"\n",
              "              title=\"Convert this dataframe to an interactive table.\"\n",
              "              style=\"display:none;\">\n",
              "        \n",
              "  <svg xmlns=\"http://www.w3.org/2000/svg\" height=\"24px\"viewBox=\"0 0 24 24\"\n",
              "       width=\"24px\">\n",
              "    <path d=\"M0 0h24v24H0V0z\" fill=\"none\"/>\n",
              "    <path d=\"M18.56 5.44l.94 2.06.94-2.06 2.06-.94-2.06-.94-.94-2.06-.94 2.06-2.06.94zm-11 1L8.5 8.5l.94-2.06 2.06-.94-2.06-.94L8.5 2.5l-.94 2.06-2.06.94zm10 10l.94 2.06.94-2.06 2.06-.94-2.06-.94-.94-2.06-.94 2.06-2.06.94z\"/><path d=\"M17.41 7.96l-1.37-1.37c-.4-.4-.92-.59-1.43-.59-.52 0-1.04.2-1.43.59L10.3 9.45l-7.72 7.72c-.78.78-.78 2.05 0 2.83L4 21.41c.39.39.9.59 1.41.59.51 0 1.02-.2 1.41-.59l7.78-7.78 2.81-2.81c.8-.78.8-2.07 0-2.86zM5.41 20L4 18.59l7.72-7.72 1.47 1.35L5.41 20z\"/>\n",
              "  </svg>\n",
              "      </button>\n",
              "      \n",
              "  <style>\n",
              "    .colab-df-container {\n",
              "      display:flex;\n",
              "      flex-wrap:wrap;\n",
              "      gap: 12px;\n",
              "    }\n",
              "\n",
              "    .colab-df-convert {\n",
              "      background-color: #E8F0FE;\n",
              "      border: none;\n",
              "      border-radius: 50%;\n",
              "      cursor: pointer;\n",
              "      display: none;\n",
              "      fill: #1967D2;\n",
              "      height: 32px;\n",
              "      padding: 0 0 0 0;\n",
              "      width: 32px;\n",
              "    }\n",
              "\n",
              "    .colab-df-convert:hover {\n",
              "      background-color: #E2EBFA;\n",
              "      box-shadow: 0px 1px 2px rgba(60, 64, 67, 0.3), 0px 1px 3px 1px rgba(60, 64, 67, 0.15);\n",
              "      fill: #174EA6;\n",
              "    }\n",
              "\n",
              "    [theme=dark] .colab-df-convert {\n",
              "      background-color: #3B4455;\n",
              "      fill: #D2E3FC;\n",
              "    }\n",
              "\n",
              "    [theme=dark] .colab-df-convert:hover {\n",
              "      background-color: #434B5C;\n",
              "      box-shadow: 0px 1px 3px 1px rgba(0, 0, 0, 0.15);\n",
              "      filter: drop-shadow(0px 1px 2px rgba(0, 0, 0, 0.3));\n",
              "      fill: #FFFFFF;\n",
              "    }\n",
              "  </style>\n",
              "\n",
              "      <script>\n",
              "        const buttonEl =\n",
              "          document.querySelector('#df-58a9dd4c-eeb3-4fc2-b081-b418f64d5cb6 button.colab-df-convert');\n",
              "        buttonEl.style.display =\n",
              "          google.colab.kernel.accessAllowed ? 'block' : 'none';\n",
              "\n",
              "        async function convertToInteractive(key) {\n",
              "          const element = document.querySelector('#df-58a9dd4c-eeb3-4fc2-b081-b418f64d5cb6');\n",
              "          const dataTable =\n",
              "            await google.colab.kernel.invokeFunction('convertToInteractive',\n",
              "                                                     [key], {});\n",
              "          if (!dataTable) return;\n",
              "\n",
              "          const docLinkHtml = 'Like what you see? Visit the ' +\n",
              "            '<a target=\"_blank\" href=https://colab.research.google.com/notebooks/data_table.ipynb>data table notebook</a>'\n",
              "            + ' to learn more about interactive tables.';\n",
              "          element.innerHTML = '';\n",
              "          dataTable['output_type'] = 'display_data';\n",
              "          await google.colab.output.renderOutput(dataTable, element);\n",
              "          const docLink = document.createElement('div');\n",
              "          docLink.innerHTML = docLinkHtml;\n",
              "          element.appendChild(docLink);\n",
              "        }\n",
              "      </script>\n",
              "    </div>\n",
              "  </div>\n",
              "  "
            ]
          },
          "metadata": {},
          "execution_count": 3
        }
      ]
    },
    {
      "cell_type": "markdown",
      "source": [
        "#Exploratory  analysis"
      ],
      "metadata": {
        "id": "lfqBGuFpI8b4"
      }
    },
    {
      "cell_type": "code",
      "source": [
        "df.columns\n",
        "\n",
        "\n",
        "\n"
      ],
      "metadata": {
        "colab": {
          "base_uri": "https://localhost:8080/"
        },
        "id": "l8GQOqnSMC3l",
        "outputId": "79463cf5-ca1a-4493-cc71-870d6f1a344b"
      },
      "execution_count": 7,
      "outputs": [
        {
          "output_type": "execute_result",
          "data": {
            "text/plain": [
              "Index(['Brand Loyalty', 'Purchase Frequency', 'Profit margin', 'Quality',\n",
              "       'sale opportunities', 'resale value', 'after sale service',\n",
              "       'competition', 'Tax rate', 'score'],\n",
              "      dtype='object')"
            ]
          },
          "metadata": {},
          "execution_count": 7
        }
      ]
    },
    {
      "cell_type": "code",
      "source": [
        "df.shape\n"
      ],
      "metadata": {
        "colab": {
          "base_uri": "https://localhost:8080/"
        },
        "id": "Qgk94URa6jSh",
        "outputId": "e2c4ab1f-7376-42f6-f294-1d5de5534d0d"
      },
      "execution_count": 6,
      "outputs": [
        {
          "output_type": "execute_result",
          "data": {
            "text/plain": [
              "(100, 10)"
            ]
          },
          "metadata": {},
          "execution_count": 6
        }
      ]
    },
    {
      "cell_type": "code",
      "source": [
        "df.describe"
      ],
      "metadata": {
        "colab": {
          "base_uri": "https://localhost:8080/"
        },
        "id": "4ME2VrA361Y-",
        "outputId": "1e4eacaa-9cb6-4321-8424-a9ad12aa357e"
      },
      "execution_count": 8,
      "outputs": [
        {
          "output_type": "execute_result",
          "data": {
            "text/plain": [
              "<bound method NDFrame.describe of     Brand Loyalty  Purchase Frequency  Profit margin  Quality  \\\n",
              "0            0.82                0.07           0.18     0.19   \n",
              "1            0.77                0.40           0.69     0.10   \n",
              "2            0.01                0.79           0.84     0.09   \n",
              "3            0.83                0.40           0.66     0.42   \n",
              "4            0.67                0.96           0.67     0.40   \n",
              "..            ...                 ...            ...      ...   \n",
              "95           0.58                0.83           0.93     0.47   \n",
              "96           0.32                0.97           0.59     0.42   \n",
              "97           0.91                0.65           0.98     0.92   \n",
              "98           0.38                0.97           0.75     0.16   \n",
              "99           0.57                0.49           0.65     0.55   \n",
              "\n",
              "    sale opportunities  resale value  after sale service  competition  \\\n",
              "0                 0.12          0.46                0.24         0.06   \n",
              "1                 0.03          0.01                0.02         0.51   \n",
              "2                 0.10          0.53                0.03         0.41   \n",
              "3                 0.32          0.11                0.16         0.13   \n",
              "4                 0.22          0.44                0.04         0.47   \n",
              "..                 ...           ...                 ...          ...   \n",
              "95                0.59          0.05                0.16         0.45   \n",
              "96                0.29          0.16                0.20         0.09   \n",
              "97                0.37          0.08                0.05         0.05   \n",
              "98                0.44          0.45                0.03         0.31   \n",
              "99                0.94          0.53                0.03         0.27   \n",
              "\n",
              "    Tax rate  score  \n",
              "0       0.30   1.24  \n",
              "1       0.13   1.34  \n",
              "2       0.19   1.73  \n",
              "3       0.01   2.44  \n",
              "4       0.24   2.61  \n",
              "..       ...    ...  \n",
              "95      0.29   2.55  \n",
              "96      0.19   2.27  \n",
              "97      0.24   3.57  \n",
              "98      0.03   2.78  \n",
              "99      0.23   3.20  \n",
              "\n",
              "[100 rows x 10 columns]>"
            ]
          },
          "metadata": {},
          "execution_count": 8
        }
      ]
    },
    {
      "cell_type": "markdown",
      "source": [
        "#Plotting a histogram to visualize the distribution of the scores."
      ],
      "metadata": {
        "id": "zuO49kLLOliC"
      }
    },
    {
      "cell_type": "code",
      "source": [
        "plt.hist(df.score, bins=30)\n",
        "plt.title(\"scores histogram\")\n",
        "plt.ylabel(\"N\")\n",
        "plt.xlabel(\"scores\")\n",
        "plt.show()"
      ],
      "metadata": {
        "colab": {
          "base_uri": "https://localhost:8080/",
          "height": 295
        },
        "id": "OECrGNffMXza",
        "outputId": "c3f776c3-66a7-4a76-bbc3-42a27b92dc83"
      },
      "execution_count": 9,
      "outputs": [
        {
          "output_type": "display_data",
          "data": {
            "text/plain": [
              "<Figure size 432x288 with 1 Axes>"
            ],
            "image/png": "[encoded data removed]"
          },
          "metadata": {
            "needs_background": "light"
          }
        }
      ]
    },
    {
      "cell_type": "markdown",
      "source": [
        "Since the scores determine the suitability of the product, the higher the score means the better chance a retailer has to selling it.\n",
        "Thus scores of 2.3 or higher are for products that should get stocked and below that should not be stocked.\n",
        " "
      ],
      "metadata": {
        "id": "TmecxnLPJbeh"
      }
    },
    {
      "cell_type": "markdown",
      "source": [
        "#The code below creates a new column 'label' that has binary values of 1 and 0, 1 being 'product to stock', 0 being 'Not to stock'"
      ],
      "metadata": {
        "id": "2zq_7YHhN4T2"
      }
    },
    {
      "cell_type": "code",
      "source": [
        "df['label'] = (df.score >= 2.3).astype(int)\n",
        "df"
      ],
      "metadata": {
        "id": "QACKtl5lPabu",
        "colab": {
          "base_uri": "https://localhost:8080/",
          "height": 485
        },
        "outputId": "1d1885bb-5768-4961-855b-e96c322e052e"
      },
      "execution_count": 10,
      "outputs": [
        {
          "output_type": "execute_result",
          "data": {
            "text/plain": [
              "    Brand Loyalty  Purchase Frequency  Profit margin  Quality  \\\n",
              "0            0.82                0.07           0.18     0.19   \n",
              "1            0.77                0.40           0.69     0.10   \n",
              "2            0.01                0.79           0.84     0.09   \n",
              "3            0.83                0.40           0.66     0.42   \n",
              "4            0.67                0.96           0.67     0.40   \n",
              "..            ...                 ...            ...      ...   \n",
              "95           0.58                0.83           0.93     0.47   \n",
              "96           0.32                0.97           0.59     0.42   \n",
              "97           0.91                0.65           0.98     0.92   \n",
              "98           0.38                0.97           0.75     0.16   \n",
              "99           0.57                0.49           0.65     0.55   \n",
              "\n",
              "    sale opportunities  resale value  after sale service  competition  \\\n",
              "0                 0.12          0.46                0.24         0.06   \n",
              "1                 0.03          0.01                0.02         0.51   \n",
              "2                 0.10          0.53                0.03         0.41   \n",
              "3                 0.32          0.11                0.16         0.13   \n",
              "4                 0.22          0.44                0.04         0.47   \n",
              "..                 ...           ...                 ...          ...   \n",
              "95                0.59          0.05                0.16         0.45   \n",
              "96                0.29          0.16                0.20         0.09   \n",
              "97                0.37          0.08                0.05         0.05   \n",
              "98                0.44          0.45                0.03         0.31   \n",
              "99                0.94          0.53                0.03         0.27   \n",
              "\n",
              "    Tax rate  score  label  \n",
              "0       0.30   1.24      0  \n",
              "1       0.13   1.34      0  \n",
              "2       0.19   1.73      0  \n",
              "3       0.01   2.44      1  \n",
              "4       0.24   2.61      1  \n",
              "..       ...    ...    ...  \n",
              "95      0.29   2.55      1  \n",
              "96      0.19   2.27      0  \n",
              "97      0.24   3.57      1  \n",
              "98      0.03   2.78      1  \n",
              "99      0.23   3.20      1  \n",
              "\n",
              "[100 rows x 11 columns]"
            ],
            "text/html": [
              "\n",
              "  <div id=\"df-8b0b53c7-55b2-4ee7-80fd-b814642f2281\">\n",
              "    <div class=\"colab-df-container\">\n",
              "      <div>\n",
              "<style scoped>\n",
              "    .dataframe tbody tr th:only-of-type {\n",
              "        vertical-align: middle;\n",
              "    }\n",
              "\n",
              "    .dataframe tbody tr th {\n",
              "        vertical-align: top;\n",
              "    }\n",
              "\n",
              "    .dataframe thead th {\n",
              "        text-align: right;\n",
              "    }\n",
              "</style>\n",
              "<table border=\"1\" class=\"dataframe\">\n",
              "  <thead>\n",
              "    <tr style=\"text-align: right;\">\n",
              "      <th></th>\n",
              "      <th>Brand Loyalty</th>\n",
              "      <th>Purchase Frequency</th>\n",
              "      <th>Profit margin</th>\n",
              "      <th>Quality</th>\n",
              "      <th>sale opportunities</th>\n",
              "      <th>resale value</th>\n",
              "      <th>after sale service</th>\n",
              "      <th>competition</th>\n",
              "      <th>Tax rate</th>\n",
              "      <th>score</th>\n",
              "      <th>label</th>\n",
              "    </tr>\n",
              "  </thead>\n",
              "  <tbody>\n",
              "    <tr>\n",
              "      <th>0</th>\n",
              "      <td>0.82</td>\n",
              "      <td>0.07</td>\n",
              "      <td>0.18</td>\n",
              "      <td>0.19</td>\n",
              "      <td>0.12</td>\n",
              "      <td>0.46</td>\n",
              "      <td>0.24</td>\n",
              "      <td>0.06</td>\n",
              "      <td>0.30</td>\n",
              "      <td>1.24</td>\n",
              "      <td>0</td>\n",
              "    </tr>\n",
              "    <tr>\n",
              "      <th>1</th>\n",
              "      <td>0.77</td>\n",
              "      <td>0.40</td>\n",
              "      <td>0.69</td>\n",
              "      <td>0.10</td>\n",
              "      <td>0.03</td>\n",
              "      <td>0.01</td>\n",
              "      <td>0.02</td>\n",
              "      <td>0.51</td>\n",
              "      <td>0.13</td>\n",
              "      <td>1.34</td>\n",
              "      <td>0</td>\n",
              "    </tr>\n",
              "    <tr>\n",
              "      <th>2</th>\n",
              "      <td>0.01</td>\n",
              "      <td>0.79</td>\n",
              "      <td>0.84</td>\n",
              "      <td>0.09</td>\n",
              "      <td>0.10</td>\n",
              "      <td>0.53</td>\n",
              "      <td>0.03</td>\n",
              "      <td>0.41</td>\n",
              "      <td>0.19</td>\n",
              "      <td>1.73</td>\n",
              "      <td>0</td>\n",
              "    </tr>\n",
              "    <tr>\n",
              "      <th>3</th>\n",
              "      <td>0.83</td>\n",
              "      <td>0.40</td>\n",
              "      <td>0.66</td>\n",
              "      <td>0.42</td>\n",
              "      <td>0.32</td>\n",
              "      <td>0.11</td>\n",
              "      <td>0.16</td>\n",
              "      <td>0.13</td>\n",
              "      <td>0.01</td>\n",
              "      <td>2.44</td>\n",
              "      <td>1</td>\n",
              "    </tr>\n",
              "    <tr>\n",
              "      <th>4</th>\n",
              "      <td>0.67</td>\n",
              "      <td>0.96</td>\n",
              "      <td>0.67</td>\n",
              "      <td>0.40</td>\n",
              "      <td>0.22</td>\n",
              "      <td>0.44</td>\n",
              "      <td>0.04</td>\n",
              "      <td>0.47</td>\n",
              "      <td>0.24</td>\n",
              "      <td>2.61</td>\n",
              "      <td>1</td>\n",
              "    </tr>\n",
              "    <tr>\n",
              "      <th>...</th>\n",
              "      <td>...</td>\n",
              "      <td>...</td>\n",
              "      <td>...</td>\n",
              "      <td>...</td>\n",
              "      <td>...</td>\n",
              "      <td>...</td>\n",
              "      <td>...</td>\n",
              "      <td>...</td>\n",
              "      <td>...</td>\n",
              "      <td>...</td>\n",
              "      <td>...</td>\n",
              "    </tr>\n",
              "    <tr>\n",
              "      <th>95</th>\n",
              "      <td>0.58</td>\n",
              "      <td>0.83</td>\n",
              "      <td>0.93</td>\n",
              "      <td>0.47</td>\n",
              "      <td>0.59</td>\n",
              "      <td>0.05</td>\n",
              "      <td>0.16</td>\n",
              "      <td>0.45</td>\n",
              "      <td>0.29</td>\n",
              "      <td>2.55</td>\n",
              "      <td>1</td>\n",
              "    </tr>\n",
              "    <tr>\n",
              "      <th>96</th>\n",
              "      <td>0.32</td>\n",
              "      <td>0.97</td>\n",
              "      <td>0.59</td>\n",
              "      <td>0.42</td>\n",
              "      <td>0.29</td>\n",
              "      <td>0.16</td>\n",
              "      <td>0.20</td>\n",
              "      <td>0.09</td>\n",
              "      <td>0.19</td>\n",
              "      <td>2.27</td>\n",
              "      <td>0</td>\n",
              "    </tr>\n",
              "    <tr>\n",
              "      <th>97</th>\n",
              "      <td>0.91</td>\n",
              "      <td>0.65</td>\n",
              "      <td>0.98</td>\n",
              "      <td>0.92</td>\n",
              "      <td>0.37</td>\n",
              "      <td>0.08</td>\n",
              "      <td>0.05</td>\n",
              "      <td>0.05</td>\n",
              "      <td>0.24</td>\n",
              "      <td>3.57</td>\n",
              "      <td>1</td>\n",
              "    </tr>\n",
              "    <tr>\n",
              "      <th>98</th>\n",
              "      <td>0.38</td>\n",
              "      <td>0.97</td>\n",
              "      <td>0.75</td>\n",
              "      <td>0.16</td>\n",
              "      <td>0.44</td>\n",
              "      <td>0.45</td>\n",
              "      <td>0.03</td>\n",
              "      <td>0.31</td>\n",
              "      <td>0.03</td>\n",
              "      <td>2.78</td>\n",
              "      <td>1</td>\n",
              "    </tr>\n",
              "    <tr>\n",
              "      <th>99</th>\n",
              "      <td>0.57</td>\n",
              "      <td>0.49</td>\n",
              "      <td>0.65</td>\n",
              "      <td>0.55</td>\n",
              "      <td>0.94</td>\n",
              "      <td>0.53</td>\n",
              "      <td>0.03</td>\n",
              "      <td>0.27</td>\n",
              "      <td>0.23</td>\n",
              "      <td>3.20</td>\n",
              "      <td>1</td>\n",
              "    </tr>\n",
              "  </tbody>\n",
              "</table>\n",
              "<p>100 rows × 11 columns</p>\n",
              "</div>\n",
              "      <button class=\"colab-df-convert\" onclick=\"convertToInteractive('df-8b0b53c7-55b2-4ee7-80fd-b814642f2281')\"\n",
              "              title=\"Convert this dataframe to an interactive table.\"\n",
              "              style=\"display:none;\">\n",
              "        \n",
              "  <svg xmlns=\"http://www.w3.org/2000/svg\" height=\"24px\"viewBox=\"0 0 24 24\"\n",
              "       width=\"24px\">\n",
              "    <path d=\"M0 0h24v24H0V0z\" fill=\"none\"/>\n",
              "    <path d=\"M18.56 5.44l.94 2.06.94-2.06 2.06-.94-2.06-.94-.94-2.06-.94 2.06-2.06.94zm-11 1L8.5 8.5l.94-2.06 2.06-.94-2.06-.94L8.5 2.5l-.94 2.06-2.06.94zm10 10l.94 2.06.94-2.06 2.06-.94-2.06-.94-.94-2.06-.94 2.06-2.06.94z\"/><path d=\"M17.41 7.96l-1.37-1.37c-.4-.4-.92-.59-1.43-.59-.52 0-1.04.2-1.43.59L10.3 9.45l-7.72 7.72c-.78.78-.78 2.05 0 2.83L4 21.41c.39.39.9.59 1.41.59.51 0 1.02-.2 1.41-.59l7.78-7.78 2.81-2.81c.8-.78.8-2.07 0-2.86zM5.41 20L4 18.59l7.72-7.72 1.47 1.35L5.41 20z\"/>\n",
              "  </svg>\n",
              "      </button>\n",
              "      \n",
              "  <style>\n",
              "    .colab-df-container {\n",
              "      display:flex;\n",
              "      flex-wrap:wrap;\n",
              "      gap: 12px;\n",
              "    }\n",
              "\n",
              "    .colab-df-convert {\n",
              "      background-color: #E8F0FE;\n",
              "      border: none;\n",
              "      border-radius: 50%;\n",
              "      cursor: pointer;\n",
              "      display: none;\n",
              "      fill: #1967D2;\n",
              "      height: 32px;\n",
              "      padding: 0 0 0 0;\n",
              "      width: 32px;\n",
              "    }\n",
              "\n",
              "    .colab-df-convert:hover {\n",
              "      background-color: #E2EBFA;\n",
              "      box-shadow: 0px 1px 2px rgba(60, 64, 67, 0.3), 0px 1px 3px 1px rgba(60, 64, 67, 0.15);\n",
              "      fill: #174EA6;\n",
              "    }\n",
              "\n",
              "    [theme=dark] .colab-df-convert {\n",
              "      background-color: #3B4455;\n",
              "      fill: #D2E3FC;\n",
              "    }\n",
              "\n",
              "    [theme=dark] .colab-df-convert:hover {\n",
              "      background-color: #434B5C;\n",
              "      box-shadow: 0px 1px 3px 1px rgba(0, 0, 0, 0.15);\n",
              "      filter: drop-shadow(0px 1px 2px rgba(0, 0, 0, 0.3));\n",
              "      fill: #FFFFFF;\n",
              "    }\n",
              "  </style>\n",
              "\n",
              "      <script>\n",
              "        const buttonEl =\n",
              "          document.querySelector('#df-8b0b53c7-55b2-4ee7-80fd-b814642f2281 button.colab-df-convert');\n",
              "        buttonEl.style.display =\n",
              "          google.colab.kernel.accessAllowed ? 'block' : 'none';\n",
              "\n",
              "        async function convertToInteractive(key) {\n",
              "          const element = document.querySelector('#df-8b0b53c7-55b2-4ee7-80fd-b814642f2281');\n",
              "          const dataTable =\n",
              "            await google.colab.kernel.invokeFunction('convertToInteractive',\n",
              "                                                     [key], {});\n",
              "          if (!dataTable) return;\n",
              "\n",
              "          const docLinkHtml = 'Like what you see? Visit the ' +\n",
              "            '<a target=\"_blank\" href=https://colab.research.google.com/notebooks/data_table.ipynb>data table notebook</a>'\n",
              "            + ' to learn more about interactive tables.';\n",
              "          element.innerHTML = '';\n",
              "          dataTable['output_type'] = 'display_data';\n",
              "          await google.colab.output.renderOutput(dataTable, element);\n",
              "          const docLink = document.createElement('div');\n",
              "          docLink.innerHTML = docLinkHtml;\n",
              "          element.appendChild(docLink);\n",
              "        }\n",
              "      </script>\n",
              "    </div>\n",
              "  </div>\n",
              "  "
            ]
          },
          "metadata": {},
          "execution_count": 10
        }
      ]
    },
    {
      "cell_type": "markdown",
      "source": [
        "#Plot to show our target distribution as binary."
      ],
      "metadata": {
        "id": "b-fl-UFXPpEw"
      }
    },
    {
      "cell_type": "code",
      "source": [
        "df[df.columns[-1]].hist(alpha=0.8, density=True)\n",
        "plt.show()\n"
      ],
      "metadata": {
        "colab": {
          "base_uri": "https://localhost:8080/",
          "height": 265
        },
        "id": "5OsaZK9jka5R",
        "outputId": "e089061e-f874-40f9-f7d4-b7ac1b3f821a"
      },
      "execution_count": 11,
      "outputs": [
        {
          "output_type": "display_data",
          "data": {
            "text/plain": [
              "<Figure size 432x288 with 1 Axes>"
            ],
            "image/png": "[encoded data removed]"
          },
          "metadata": {
            "needs_background": "light"
          }
        }
      ]
    },
    {
      "cell_type": "markdown",
      "source": [
        "**FEATURE ENGINEERING**\n",
        "\n",
        "\n",
        "\n",
        "correlation of the dataset"
      ],
      "metadata": {
        "id": "hT3YdjGQTeje"
      }
    },
    {
      "cell_type": "code",
      "source": [
        "df.corr()"
      ],
      "metadata": {
        "colab": {
          "base_uri": "https://localhost:8080/",
          "height": 562
        },
        "id": "Eg_MOrNuQCDE",
        "outputId": "1a301a57-3f05-42d6-9206-6b54ce49db72"
      },
      "execution_count": 12,
      "outputs": [
        {
          "output_type": "execute_result",
          "data": {
            "text/plain": [
              "                    Brand Loyalty  Purchase Frequency  Profit margin  \\\n",
              "Brand Loyalty            1.000000           -0.101671      -0.006980   \n",
              "Purchase Frequency      -0.101671            1.000000       0.091421   \n",
              "Profit margin           -0.006980            0.091421       1.000000   \n",
              "Quality                  0.034071           -0.209296       0.030865   \n",
              "sale opportunities       0.085565            0.059011      -0.155792   \n",
              "resale value             0.139614           -0.028495      -0.081427   \n",
              "after sale service       0.078126           -0.038012      -0.153039   \n",
              "competition             -0.054073           -0.169057      -0.110161   \n",
              "Tax rate                -0.042436            0.019991      -0.135504   \n",
              "score                    0.482141            0.361426       0.429334   \n",
              "label                    0.478713            0.262128       0.352632   \n",
              "\n",
              "                     Quality  sale opportunities  resale value  \\\n",
              "Brand Loyalty       0.034071            0.085565      0.139614   \n",
              "Purchase Frequency -0.209296            0.059011     -0.028495   \n",
              "Profit margin       0.030865           -0.155792     -0.081427   \n",
              "Quality             1.000000           -0.060314      0.104439   \n",
              "sale opportunities -0.060314            1.000000     -0.055600   \n",
              "resale value        0.104439           -0.055600      1.000000   \n",
              "after sale service -0.027552            0.287491      0.003971   \n",
              "competition        -0.028433            0.036727      0.026721   \n",
              "Tax rate            0.005185           -0.005270      0.070764   \n",
              "score               0.377711            0.284945      0.270554   \n",
              "label               0.328029            0.221437      0.204888   \n",
              "\n",
              "                    after sale service  competition  Tax rate     score  \\\n",
              "Brand Loyalty                 0.078126    -0.054073 -0.042436  0.482141   \n",
              "Purchase Frequency           -0.038012    -0.169057  0.019991  0.361426   \n",
              "Profit margin                -0.153039    -0.110161 -0.135504  0.429334   \n",
              "Quality                      -0.027552    -0.028433  0.005185  0.377711   \n",
              "sale opportunities            0.287491     0.036727 -0.005270  0.284945   \n",
              "resale value                  0.003971     0.026721  0.070764  0.270554   \n",
              "after sale service            1.000000    -0.021367  0.073444 -0.054470   \n",
              "competition                  -0.021367     1.000000  0.131046 -0.421436   \n",
              "Tax rate                      0.073444     0.131046  1.000000 -0.210066   \n",
              "score                        -0.054470    -0.421436 -0.210066  1.000000   \n",
              "label                        -0.010961    -0.214120 -0.106905  0.793441   \n",
              "\n",
              "                       label  \n",
              "Brand Loyalty       0.478713  \n",
              "Purchase Frequency  0.262128  \n",
              "Profit margin       0.352632  \n",
              "Quality             0.328029  \n",
              "sale opportunities  0.221437  \n",
              "resale value        0.204888  \n",
              "after sale service -0.010961  \n",
              "competition        -0.214120  \n",
              "Tax rate           -0.106905  \n",
              "score               0.793441  \n",
              "label               1.000000  "
            ],
            "text/html": [
              "\n",
              "  <div id=\"df-b3e9fa7d-69d8-492c-a52f-7f40a9e558eb\">\n",
              "    <div class=\"colab-df-container\">\n",
              "      <div>\n",
              "<style scoped>\n",
              "    .dataframe tbody tr th:only-of-type {\n",
              "        vertical-align: middle;\n",
              "    }\n",
              "\n",
              "    .dataframe tbody tr th {\n",
              "        vertical-align: top;\n",
              "    }\n",
              "\n",
              "    .dataframe thead th {\n",
              "        text-align: right;\n",
              "    }\n",
              "</style>\n",
              "<table border=\"1\" class=\"dataframe\">\n",
              "  <thead>\n",
              "    <tr style=\"text-align: right;\">\n",
              "      <th></th>\n",
              "      <th>Brand Loyalty</th>\n",
              "      <th>Purchase Frequency</th>\n",
              "      <th>Profit margin</th>\n",
              "      <th>Quality</th>\n",
              "      <th>sale opportunities</th>\n",
              "      <th>resale value</th>\n",
              "      <th>after sale service</th>\n",
              "      <th>competition</th>\n",
              "      <th>Tax rate</th>\n",
              "      <th>score</th>\n",
              "      <th>label</th>\n",
              "    </tr>\n",
              "  </thead>\n",
              "  <tbody>\n",
              "    <tr>\n",
              "      <th>Brand Loyalty</th>\n",
              "      <td>1.000000</td>\n",
              "      <td>-0.101671</td>\n",
              "      <td>-0.006980</td>\n",
              "      <td>0.034071</td>\n",
              "      <td>0.085565</td>\n",
              "      <td>0.139614</td>\n",
              "      <td>0.078126</td>\n",
              "      <td>-0.054073</td>\n",
              "      <td>-0.042436</td>\n",
              "      <td>0.482141</td>\n",
              "      <td>0.478713</td>\n",
              "    </tr>\n",
              "    <tr>\n",
              "      <th>Purchase Frequency</th>\n",
              "      <td>-0.101671</td>\n",
              "      <td>1.000000</td>\n",
              "      <td>0.091421</td>\n",
              "      <td>-0.209296</td>\n",
              "      <td>0.059011</td>\n",
              "      <td>-0.028495</td>\n",
              "      <td>-0.038012</td>\n",
              "      <td>-0.169057</td>\n",
              "      <td>0.019991</td>\n",
              "      <td>0.361426</td>\n",
              "      <td>0.262128</td>\n",
              "    </tr>\n",
              "    <tr>\n",
              "      <th>Profit margin</th>\n",
              "      <td>-0.006980</td>\n",
              "      <td>0.091421</td>\n",
              "      <td>1.000000</td>\n",
              "      <td>0.030865</td>\n",
              "      <td>-0.155792</td>\n",
              "      <td>-0.081427</td>\n",
              "      <td>-0.153039</td>\n",
              "      <td>-0.110161</td>\n",
              "      <td>-0.135504</td>\n",
              "      <td>0.429334</td>\n",
              "      <td>0.352632</td>\n",
              "    </tr>\n",
              "    <tr>\n",
              "      <th>Quality</th>\n",
              "      <td>0.034071</td>\n",
              "      <td>-0.209296</td>\n",
              "      <td>0.030865</td>\n",
              "      <td>1.000000</td>\n",
              "      <td>-0.060314</td>\n",
              "      <td>0.104439</td>\n",
              "      <td>-0.027552</td>\n",
              "      <td>-0.028433</td>\n",
              "      <td>0.005185</td>\n",
              "      <td>0.377711</td>\n",
              "      <td>0.328029</td>\n",
              "    </tr>\n",
              "    <tr>\n",
              "      <th>sale opportunities</th>\n",
              "      <td>0.085565</td>\n",
              "      <td>0.059011</td>\n",
              "      <td>-0.155792</td>\n",
              "      <td>-0.060314</td>\n",
              "      <td>1.000000</td>\n",
              "      <td>-0.055600</td>\n",
              "      <td>0.287491</td>\n",
              "      <td>0.036727</td>\n",
              "      <td>-0.005270</td>\n",
              "      <td>0.284945</td>\n",
              "      <td>0.221437</td>\n",
              "    </tr>\n",
              "    <tr>\n",
              "      <th>resale value</th>\n",
              "      <td>0.139614</td>\n",
              "      <td>-0.028495</td>\n",
              "      <td>-0.081427</td>\n",
              "      <td>0.104439</td>\n",
              "      <td>-0.055600</td>\n",
              "      <td>1.000000</td>\n",
              "      <td>0.003971</td>\n",
              "      <td>0.026721</td>\n",
              "      <td>0.070764</td>\n",
              "      <td>0.270554</td>\n",
              "      <td>0.204888</td>\n",
              "    </tr>\n",
              "    <tr>\n",
              "      <th>after sale service</th>\n",
              "      <td>0.078126</td>\n",
              "      <td>-0.038012</td>\n",
              "      <td>-0.153039</td>\n",
              "      <td>-0.027552</td>\n",
              "      <td>0.287491</td>\n",
              "      <td>0.003971</td>\n",
              "      <td>1.000000</td>\n",
              "      <td>-0.021367</td>\n",
              "      <td>0.073444</td>\n",
              "      <td>-0.054470</td>\n",
              "      <td>-0.010961</td>\n",
              "    </tr>\n",
              "    <tr>\n",
              "      <th>competition</th>\n",
              "      <td>-0.054073</td>\n",
              "      <td>-0.169057</td>\n",
              "      <td>-0.110161</td>\n",
              "      <td>-0.028433</td>\n",
              "      <td>0.036727</td>\n",
              "      <td>0.026721</td>\n",
              "      <td>-0.021367</td>\n",
              "      <td>1.000000</td>\n",
              "      <td>0.131046</td>\n",
              "      <td>-0.421436</td>\n",
              "      <td>-0.214120</td>\n",
              "    </tr>\n",
              "    <tr>\n",
              "      <th>Tax rate</th>\n",
              "      <td>-0.042436</td>\n",
              "      <td>0.019991</td>\n",
              "      <td>-0.135504</td>\n",
              "      <td>0.005185</td>\n",
              "      <td>-0.005270</td>\n",
              "      <td>0.070764</td>\n",
              "      <td>0.073444</td>\n",
              "      <td>0.131046</td>\n",
              "      <td>1.000000</td>\n",
              "      <td>-0.210066</td>\n",
              "      <td>-0.106905</td>\n",
              "    </tr>\n",
              "    <tr>\n",
              "      <th>score</th>\n",
              "      <td>0.482141</td>\n",
              "      <td>0.361426</td>\n",
              "      <td>0.429334</td>\n",
              "      <td>0.377711</td>\n",
              "      <td>0.284945</td>\n",
              "      <td>0.270554</td>\n",
              "      <td>-0.054470</td>\n",
              "      <td>-0.421436</td>\n",
              "      <td>-0.210066</td>\n",
              "      <td>1.000000</td>\n",
              "      <td>0.793441</td>\n",
              "    </tr>\n",
              "    <tr>\n",
              "      <th>label</th>\n",
              "      <td>0.478713</td>\n",
              "      <td>0.262128</td>\n",
              "      <td>0.352632</td>\n",
              "      <td>0.328029</td>\n",
              "      <td>0.221437</td>\n",
              "      <td>0.204888</td>\n",
              "      <td>-0.010961</td>\n",
              "      <td>-0.214120</td>\n",
              "      <td>-0.106905</td>\n",
              "      <td>0.793441</td>\n",
              "      <td>1.000000</td>\n",
              "    </tr>\n",
              "  </tbody>\n",
              "</table>\n",
              "</div>\n",
              "      <button class=\"colab-df-convert\" onclick=\"convertToInteractive('df-b3e9fa7d-69d8-492c-a52f-7f40a9e558eb')\"\n",
              "              title=\"Convert this dataframe to an interactive table.\"\n",
              "              style=\"display:none;\">\n",
              "        \n",
              "  <svg xmlns=\"http://www.w3.org/2000/svg\" height=\"24px\"viewBox=\"0 0 24 24\"\n",
              "       width=\"24px\">\n",
              "    <path d=\"M0 0h24v24H0V0z\" fill=\"none\"/>\n",
              "    <path d=\"M18.56 5.44l.94 2.06.94-2.06 2.06-.94-2.06-.94-.94-2.06-.94 2.06-2.06.94zm-11 1L8.5 8.5l.94-2.06 2.06-.94-2.06-.94L8.5 2.5l-.94 2.06-2.06.94zm10 10l.94 2.06.94-2.06 2.06-.94-2.06-.94-.94-2.06-.94 2.06-2.06.94z\"/><path d=\"M17.41 7.96l-1.37-1.37c-.4-.4-.92-.59-1.43-.59-.52 0-1.04.2-1.43.59L10.3 9.45l-7.72 7.72c-.78.78-.78 2.05 0 2.83L4 21.41c.39.39.9.59 1.41.59.51 0 1.02-.2 1.41-.59l7.78-7.78 2.81-2.81c.8-.78.8-2.07 0-2.86zM5.41 20L4 18.59l7.72-7.72 1.47 1.35L5.41 20z\"/>\n",
              "  </svg>\n",
              "      </button>\n",
              "      \n",
              "  <style>\n",
              "    .colab-df-container {\n",
              "      display:flex;\n",
              "      flex-wrap:wrap;\n",
              "      gap: 12px;\n",
              "    }\n",
              "\n",
              "    .colab-df-convert {\n",
              "      background-color: #E8F0FE;\n",
              "      border: none;\n",
              "      border-radius: 50%;\n",
              "      cursor: pointer;\n",
              "      display: none;\n",
              "      fill: #1967D2;\n",
              "      height: 32px;\n",
              "      padding: 0 0 0 0;\n",
              "      width: 32px;\n",
              "    }\n",
              "\n",
              "    .colab-df-convert:hover {\n",
              "      background-color: #E2EBFA;\n",
              "      box-shadow: 0px 1px 2px rgba(60, 64, 67, 0.3), 0px 1px 3px 1px rgba(60, 64, 67, 0.15);\n",
              "      fill: #174EA6;\n",
              "    }\n",
              "\n",
              "    [theme=dark] .colab-df-convert {\n",
              "      background-color: #3B4455;\n",
              "      fill: #D2E3FC;\n",
              "    }\n",
              "\n",
              "    [theme=dark] .colab-df-convert:hover {\n",
              "      background-color: #434B5C;\n",
              "      box-shadow: 0px 1px 3px 1px rgba(0, 0, 0, 0.15);\n",
              "      filter: drop-shadow(0px 1px 2px rgba(0, 0, 0, 0.3));\n",
              "      fill: #FFFFFF;\n",
              "    }\n",
              "  </style>\n",
              "\n",
              "      <script>\n",
              "        const buttonEl =\n",
              "          document.querySelector('#df-b3e9fa7d-69d8-492c-a52f-7f40a9e558eb button.colab-df-convert');\n",
              "        buttonEl.style.display =\n",
              "          google.colab.kernel.accessAllowed ? 'block' : 'none';\n",
              "\n",
              "        async function convertToInteractive(key) {\n",
              "          const element = document.querySelector('#df-b3e9fa7d-69d8-492c-a52f-7f40a9e558eb');\n",
              "          const dataTable =\n",
              "            await google.colab.kernel.invokeFunction('convertToInteractive',\n",
              "                                                     [key], {});\n",
              "          if (!dataTable) return;\n",
              "\n",
              "          const docLinkHtml = 'Like what you see? Visit the ' +\n",
              "            '<a target=\"_blank\" href=https://colab.research.google.com/notebooks/data_table.ipynb>data table notebook</a>'\n",
              "            + ' to learn more about interactive tables.';\n",
              "          element.innerHTML = '';\n",
              "          dataTable['output_type'] = 'display_data';\n",
              "          await google.colab.output.renderOutput(dataTable, element);\n",
              "          const docLink = document.createElement('div');\n",
              "          docLink.innerHTML = docLinkHtml;\n",
              "          element.appendChild(docLink);\n",
              "        }\n",
              "      </script>\n",
              "    </div>\n",
              "  </div>\n",
              "  "
            ]
          },
          "metadata": {},
          "execution_count": 12
        }
      ]
    },
    {
      "cell_type": "code",
      "source": [
        "sns.set(rc = {'figure.figsize':(16,8)})\n",
        "sns.heatmap(df.corr(), annot = True, fmt='.2g',cmap= 'coolwarm')"
      ],
      "metadata": {
        "colab": {
          "base_uri": "https://localhost:8080/",
          "height": 607
        },
        "id": "7wUnxNKo6CmG",
        "outputId": "4b314ea8-bde6-4e88-c477-6b25f4f53847"
      },
      "execution_count": 15,
      "outputs": [
        {
          "output_type": "execute_result",
          "data": {
            "text/plain": [
              "<matplotlib.axes._subplots.AxesSubplot at 0x7f66ce6cb910>"
            ]
          },
          "metadata": {},
          "execution_count": 15
        },
        {
          "output_type": "display_data",
          "data": {
            "text/plain": [
              "<Figure size 1152x576 with 2 Axes>"
            ],
            "image/png": "[encoded data removed]"
          },
          "metadata": {}
        }
      ]
    },
    {
      "cell_type": "markdown",
      "source": [
        "The data above shows the correlation between all the columns, and since we are intrested in predicting the label, we find 3 columns that have a negative correlation with the label, and thus not useful in the model. This columns are 'after sale service',\t'competition',\t'Tax rate'.\n",
        "\n",
        "Also the 'scores' column has a correlation of 0.79 which is high compared to the label, this isn't a surprise since the score was used to generate the values of the final label. \n",
        "Its then necessary to drop it because using it as a feature is almost like allowing our model to cheat.\n",
        "\n"
      ],
      "metadata": {
        "id": "5hWMF6yRPRd6"
      }
    },
    {
      "cell_type": "code",
      "source": [
        "#dropping the 3 columns\n",
        "df = df.drop(['after sale service','competition','Tax rate','score'], axis=1)\n",
        "df"
      ],
      "metadata": {
        "colab": {
          "base_uri": "https://localhost:8080/",
          "height": 424
        },
        "id": "7UNyxlfQUXyF",
        "outputId": "d995e21e-d71e-43aa-f7b5-1f4c260d22ca"
      },
      "execution_count": 16,
      "outputs": [
        {
          "output_type": "execute_result",
          "data": {
            "text/plain": [
              "    Brand Loyalty  Purchase Frequency  Profit margin  Quality  \\\n",
              "0            0.82                0.07           0.18     0.19   \n",
              "1            0.77                0.40           0.69     0.10   \n",
              "2            0.01                0.79           0.84     0.09   \n",
              "3            0.83                0.40           0.66     0.42   \n",
              "4            0.67                0.96           0.67     0.40   \n",
              "..            ...                 ...            ...      ...   \n",
              "95           0.58                0.83           0.93     0.47   \n",
              "96           0.32                0.97           0.59     0.42   \n",
              "97           0.91                0.65           0.98     0.92   \n",
              "98           0.38                0.97           0.75     0.16   \n",
              "99           0.57                0.49           0.65     0.55   \n",
              "\n",
              "    sale opportunities  resale value  label  \n",
              "0                 0.12          0.46      0  \n",
              "1                 0.03          0.01      0  \n",
              "2                 0.10          0.53      0  \n",
              "3                 0.32          0.11      1  \n",
              "4                 0.22          0.44      1  \n",
              "..                 ...           ...    ...  \n",
              "95                0.59          0.05      1  \n",
              "96                0.29          0.16      0  \n",
              "97                0.37          0.08      1  \n",
              "98                0.44          0.45      1  \n",
              "99                0.94          0.53      1  \n",
              "\n",
              "[100 rows x 7 columns]"
            ],
            "text/html": [
              "\n",
              "  <div id=\"df-8bf8cab3-45a4-4290-bdfc-c99986235375\">\n",
              "    <div class=\"colab-df-container\">\n",
              "      <div>\n",
              "<style scoped>\n",
              "    .dataframe tbody tr th:only-of-type {\n",
              "        vertical-align: middle;\n",
              "    }\n",
              "\n",
              "    .dataframe tbody tr th {\n",
              "        vertical-align: top;\n",
              "    }\n",
              "\n",
              "    .dataframe thead th {\n",
              "        text-align: right;\n",
              "    }\n",
              "</style>\n",
              "<table border=\"1\" class=\"dataframe\">\n",
              "  <thead>\n",
              "    <tr style=\"text-align: right;\">\n",
              "      <th></th>\n",
              "      <th>Brand Loyalty</th>\n",
              "      <th>Purchase Frequency</th>\n",
              "      <th>Profit margin</th>\n",
              "      <th>Quality</th>\n",
              "      <th>sale opportunities</th>\n",
              "      <th>resale value</th>\n",
              "      <th>label</th>\n",
              "    </tr>\n",
              "  </thead>\n",
              "  <tbody>\n",
              "    <tr>\n",
              "      <th>0</th>\n",
              "      <td>0.82</td>\n",
              "      <td>0.07</td>\n",
              "      <td>0.18</td>\n",
              "      <td>0.19</td>\n",
              "      <td>0.12</td>\n",
              "      <td>0.46</td>\n",
              "      <td>0</td>\n",
              "    </tr>\n",
              "    <tr>\n",
              "      <th>1</th>\n",
              "      <td>0.77</td>\n",
              "      <td>0.40</td>\n",
              "      <td>0.69</td>\n",
              "      <td>0.10</td>\n",
              "      <td>0.03</td>\n",
              "      <td>0.01</td>\n",
              "      <td>0</td>\n",
              "    </tr>\n",
              "    <tr>\n",
              "      <th>2</th>\n",
              "      <td>0.01</td>\n",
              "      <td>0.79</td>\n",
              "      <td>0.84</td>\n",
              "      <td>0.09</td>\n",
              "      <td>0.10</td>\n",
              "      <td>0.53</td>\n",
              "      <td>0</td>\n",
              "    </tr>\n",
              "    <tr>\n",
              "      <th>3</th>\n",
              "      <td>0.83</td>\n",
              "      <td>0.40</td>\n",
              "      <td>0.66</td>\n",
              "      <td>0.42</td>\n",
              "      <td>0.32</td>\n",
              "      <td>0.11</td>\n",
              "      <td>1</td>\n",
              "    </tr>\n",
              "    <tr>\n",
              "      <th>4</th>\n",
              "      <td>0.67</td>\n",
              "      <td>0.96</td>\n",
              "      <td>0.67</td>\n",
              "      <td>0.40</td>\n",
              "      <td>0.22</td>\n",
              "      <td>0.44</td>\n",
              "      <td>1</td>\n",
              "    </tr>\n",
              "    <tr>\n",
              "      <th>...</th>\n",
              "      <td>...</td>\n",
              "      <td>...</td>\n",
              "      <td>...</td>\n",
              "      <td>...</td>\n",
              "      <td>...</td>\n",
              "      <td>...</td>\n",
              "      <td>...</td>\n",
              "    </tr>\n",
              "    <tr>\n",
              "      <th>95</th>\n",
              "      <td>0.58</td>\n",
              "      <td>0.83</td>\n",
              "      <td>0.93</td>\n",
              "      <td>0.47</td>\n",
              "      <td>0.59</td>\n",
              "      <td>0.05</td>\n",
              "      <td>1</td>\n",
              "    </tr>\n",
              "    <tr>\n",
              "      <th>96</th>\n",
              "      <td>0.32</td>\n",
              "      <td>0.97</td>\n",
              "      <td>0.59</td>\n",
              "      <td>0.42</td>\n",
              "      <td>0.29</td>\n",
              "      <td>0.16</td>\n",
              "      <td>0</td>\n",
              "    </tr>\n",
              "    <tr>\n",
              "      <th>97</th>\n",
              "      <td>0.91</td>\n",
              "      <td>0.65</td>\n",
              "      <td>0.98</td>\n",
              "      <td>0.92</td>\n",
              "      <td>0.37</td>\n",
              "      <td>0.08</td>\n",
              "      <td>1</td>\n",
              "    </tr>\n",
              "    <tr>\n",
              "      <th>98</th>\n",
              "      <td>0.38</td>\n",
              "      <td>0.97</td>\n",
              "      <td>0.75</td>\n",
              "      <td>0.16</td>\n",
              "      <td>0.44</td>\n",
              "      <td>0.45</td>\n",
              "      <td>1</td>\n",
              "    </tr>\n",
              "    <tr>\n",
              "      <th>99</th>\n",
              "      <td>0.57</td>\n",
              "      <td>0.49</td>\n",
              "      <td>0.65</td>\n",
              "      <td>0.55</td>\n",
              "      <td>0.94</td>\n",
              "      <td>0.53</td>\n",
              "      <td>1</td>\n",
              "    </tr>\n",
              "  </tbody>\n",
              "</table>\n",
              "<p>100 rows × 7 columns</p>\n",
              "</div>\n",
              "      <button class=\"colab-df-convert\" onclick=\"convertToInteractive('df-8bf8cab3-45a4-4290-bdfc-c99986235375')\"\n",
              "              title=\"Convert this dataframe to an interactive table.\"\n",
              "              style=\"display:none;\">\n",
              "        \n",
              "  <svg xmlns=\"http://www.w3.org/2000/svg\" height=\"24px\"viewBox=\"0 0 24 24\"\n",
              "       width=\"24px\">\n",
              "    <path d=\"M0 0h24v24H0V0z\" fill=\"none\"/>\n",
              "    <path d=\"M18.56 5.44l.94 2.06.94-2.06 2.06-.94-2.06-.94-.94-2.06-.94 2.06-2.06.94zm-11 1L8.5 8.5l.94-2.06 2.06-.94-2.06-.94L8.5 2.5l-.94 2.06-2.06.94zm10 10l.94 2.06.94-2.06 2.06-.94-2.06-.94-.94-2.06-.94 2.06-2.06.94z\"/><path d=\"M17.41 7.96l-1.37-1.37c-.4-.4-.92-.59-1.43-.59-.52 0-1.04.2-1.43.59L10.3 9.45l-7.72 7.72c-.78.78-.78 2.05 0 2.83L4 21.41c.39.39.9.59 1.41.59.51 0 1.02-.2 1.41-.59l7.78-7.78 2.81-2.81c.8-.78.8-2.07 0-2.86zM5.41 20L4 18.59l7.72-7.72 1.47 1.35L5.41 20z\"/>\n",
              "  </svg>\n",
              "      </button>\n",
              "      \n",
              "  <style>\n",
              "    .colab-df-container {\n",
              "      display:flex;\n",
              "      flex-wrap:wrap;\n",
              "      gap: 12px;\n",
              "    }\n",
              "\n",
              "    .colab-df-convert {\n",
              "      background-color: #E8F0FE;\n",
              "      border: none;\n",
              "      border-radius: 50%;\n",
              "      cursor: pointer;\n",
              "      display: none;\n",
              "      fill: #1967D2;\n",
              "      height: 32px;\n",
              "      padding: 0 0 0 0;\n",
              "      width: 32px;\n",
              "    }\n",
              "\n",
              "    .colab-df-convert:hover {\n",
              "      background-color: #E2EBFA;\n",
              "      box-shadow: 0px 1px 2px rgba(60, 64, 67, 0.3), 0px 1px 3px 1px rgba(60, 64, 67, 0.15);\n",
              "      fill: #174EA6;\n",
              "    }\n",
              "\n",
              "    [theme=dark] .colab-df-convert {\n",
              "      background-color: #3B4455;\n",
              "      fill: #D2E3FC;\n",
              "    }\n",
              "\n",
              "    [theme=dark] .colab-df-convert:hover {\n",
              "      background-color: #434B5C;\n",
              "      box-shadow: 0px 1px 3px 1px rgba(0, 0, 0, 0.15);\n",
              "      filter: drop-shadow(0px 1px 2px rgba(0, 0, 0, 0.3));\n",
              "      fill: #FFFFFF;\n",
              "    }\n",
              "  </style>\n",
              "\n",
              "      <script>\n",
              "        const buttonEl =\n",
              "          document.querySelector('#df-8bf8cab3-45a4-4290-bdfc-c99986235375 button.colab-df-convert');\n",
              "        buttonEl.style.display =\n",
              "          google.colab.kernel.accessAllowed ? 'block' : 'none';\n",
              "\n",
              "        async function convertToInteractive(key) {\n",
              "          const element = document.querySelector('#df-8bf8cab3-45a4-4290-bdfc-c99986235375');\n",
              "          const dataTable =\n",
              "            await google.colab.kernel.invokeFunction('convertToInteractive',\n",
              "                                                     [key], {});\n",
              "          if (!dataTable) return;\n",
              "\n",
              "          const docLinkHtml = 'Like what you see? Visit the ' +\n",
              "            '<a target=\"_blank\" href=https://colab.research.google.com/notebooks/data_table.ipynb>data table notebook</a>'\n",
              "            + ' to learn more about interactive tables.';\n",
              "          element.innerHTML = '';\n",
              "          dataTable['output_type'] = 'display_data';\n",
              "          await google.colab.output.renderOutput(dataTable, element);\n",
              "          const docLink = document.createElement('div');\n",
              "          docLink.innerHTML = docLinkHtml;\n",
              "          element.appendChild(docLink);\n",
              "        }\n",
              "      </script>\n",
              "    </div>\n",
              "  </div>\n",
              "  "
            ]
          },
          "metadata": {},
          "execution_count": 16
        }
      ]
    },
    {
      "cell_type": "markdown",
      "source": [
        "# Splitting the data into features(X) and Target(Y)"
      ],
      "metadata": {
        "id": "x_GWINgsQQye"
      }
    },
    {
      "cell_type": "code",
      "source": [
        "X = df[df.columns[:-1]].values\n",
        "Y = df[[df.columns[-1]]].values\n",
        "\n",
        "#confirming split\n",
        "print(X.shape)\n",
        "print(Y.shape)"
      ],
      "metadata": {
        "colab": {
          "base_uri": "https://localhost:8080/"
        },
        "id": "pqcg58QVUfmS",
        "outputId": "9d625cb4-dfb7-4138-dd6d-3bd1a0fa50ef"
      },
      "execution_count": 18,
      "outputs": [
        {
          "output_type": "stream",
          "name": "stdout",
          "text": [
            "(100, 6)\n",
            "(100, 1)\n"
          ]
        }
      ]
    },
    {
      "cell_type": "markdown",
      "source": [
        "#Splitting the data  to test and train sets\n",
        "\n",
        "The training data is set to be 75% of the data and the testing data as 25%.\n",
        "The training data should contain 75 rows x 6 columns, while\n",
        "the testing data should have 25 rows x 1 column\n"
      ],
      "metadata": {
        "id": "MK3vJsSSXp5p"
      }
    },
    {
      "cell_type": "code",
      "source": [
        "x_test, x_train, y_test, y_train = train_test_split(X, Y, random_state=0, test_size = .75)\n",
        "\n",
        "#confirming split\n",
        "print(x_test.shape)\n",
        "print(x_train.shape)\n",
        "print(y_test.shape)\n",
        "print(y_train.shape)"
      ],
      "metadata": {
        "colab": {
          "base_uri": "https://localhost:8080/"
        },
        "id": "rhUOeeKLUP8q",
        "outputId": "a25ab224-c372-4b30-d3c4-d8bacef02b4e"
      },
      "execution_count": 19,
      "outputs": [
        {
          "output_type": "stream",
          "name": "stdout",
          "text": [
            "(25, 6)\n",
            "(75, 6)\n",
            "(25, 1)\n",
            "(75, 1)\n"
          ]
        }
      ]
    },
    {
      "cell_type": "markdown",
      "source": [
        "#Instatiating logistic regression\n"
      ],
      "metadata": {
        "id": "GwDU_s4Wrvs9"
      }
    },
    {
      "cell_type": "code",
      "source": [
        "model = LogisticRegression() \n",
        "\n",
        "\n",
        "# .ravel method changes the shape of y to remove data conversion anormalies\n",
        "model.fit(x_train,y_train.ravel())\n"
      ],
      "metadata": {
        "colab": {
          "base_uri": "https://localhost:8080/"
        },
        "id": "zaJoL25naMEu",
        "outputId": "915a822f-dc2a-41a0-a07b-bd3c1d87099f"
      },
      "execution_count": 20,
      "outputs": [
        {
          "output_type": "execute_result",
          "data": {
            "text/plain": [
              "LogisticRegression()"
            ]
          },
          "metadata": {},
          "execution_count": 20
        }
      ]
    },
    {
      "cell_type": "markdown",
      "source": [
        "#Using the model to predict given our test data feature\n"
      ],
      "metadata": {
        "id": "I7zOPwfvsdHD"
      }
    },
    {
      "cell_type": "code",
      "source": [
        "predict_test = model.predict(x_test)\n",
        "print(\"Evaluated test_predictions:\", predict_test)"
      ],
      "metadata": {
        "id": "1sp-jc-fSTh5",
        "colab": {
          "base_uri": "https://localhost:8080/"
        },
        "outputId": "c93e5756-6235-4200-e829-58e7ccd2f399"
      },
      "execution_count": 21,
      "outputs": [
        {
          "output_type": "stream",
          "name": "stdout",
          "text": [
            "Evaluated test_predictions: [1 0 0 0 1 0 0 1 1 0 0 0 0 0 1 1 1 1 1 0 1 0 0 1 0]\n"
          ]
        }
      ]
    },
    {
      "cell_type": "markdown",
      "source": [
        "#Determining an accuracy score of the model given our test target\n"
      ],
      "metadata": {
        "id": "_gPVy8dAsqv5"
      }
    },
    {
      "cell_type": "code",
      "source": [
        "\n",
        "accuracy_test = accuracy_score(y_test,predict_test)\n",
        "print('accuracy_score on test dataset : ', accuracy_test)"
      ],
      "metadata": {
        "colab": {
          "base_uri": "https://localhost:8080/"
        },
        "id": "G2Zydl5xbhOA",
        "outputId": "e3c7f889-7072-4a5c-a624-de794f71b8f7"
      },
      "execution_count": 22,
      "outputs": [
        {
          "output_type": "stream",
          "name": "stdout",
          "text": [
            "accuracy_score on test dataset :  0.88\n"
          ]
        }
      ]
    },
    {
      "cell_type": "markdown",
      "source": [
        "#Creating a classification report"
      ],
      "metadata": {
        "id": "TyPz2em60zq8"
      }
    },
    {
      "cell_type": "code",
      "source": [
        "\n",
        "print(classification_report(y_test,predict_test))"
      ],
      "metadata": {
        "colab": {
          "base_uri": "https://localhost:8080/"
        },
        "id": "7jAHls1a0yTI",
        "outputId": "54563515-f0c2-488f-d464-eb3e0f27f0c4"
      },
      "execution_count": 23,
      "outputs": [
        {
          "output_type": "stream",
          "name": "stdout",
          "text": [
            "              precision    recall  f1-score   support\n",
            "\n",
            "           0       0.93      0.87      0.90        15\n",
            "           1       0.82      0.90      0.86        10\n",
            "\n",
            "    accuracy                           0.88        25\n",
            "   macro avg       0.87      0.88      0.88        25\n",
            "weighted avg       0.88      0.88      0.88        25\n",
            "\n"
          ]
        }
      ]
    },
    {
      "cell_type": "markdown",
      "source": [
        "#Conclusion\n",
        "\n",
        "The objectives set out were achieved, the appropriate features were used, a regression \n",
        "model fitted on the data and an accuracy of 0.88 achieved when testing the model on the test dataset. \n"
      ],
      "metadata": {
        "id": "BEKyPK7G6e0j"
      }
    },
    {
      "cell_type": "markdown",
      "source": [
        "#Follow up study\n",
        "\n",
        "* More features to be added so as to make the model more robust.\n",
        "* Find good ways of quantifying consumer behaviour for a more accurate model"
      ],
      "metadata": {
        "id": "0EJh60HCqbU6"
      }
    },
    {
      "cell_type": "markdown",
      "source": [
        "#Refferences.\n",
        "\n",
        "\n"
      ],
      "metadata": {
        "id": "XEtfISRWqmBb"
      }
    },
    {
      "cell_type": "markdown",
      "source": [
        "1. https://www.marketingstudyguide.com/list-examples-classifying-consumer-products/\n",
        "2. https://www.mckinsey.com/industries/retail/our-insights/navigating-inflation-in-retail-six-actions-for-retailers\n",
        "3. https://www.marketresearch.com/seek/Consumer-Goods-Kenya/1596/1177/1.html\n",
        "4. https://www.geopoll.com/blog/fmcg-consumer-behavior-kenya/\n",
        "5. https://towardsdatascience.com/building-a-logistic-regression-in-python-step-by-step-becd4d56c9c8\n",
        "6. https://www.ashokcharan.com/Marketing-Analytics/~cm-categories.php \n",
        "7. https://androidkt.com/find-correlation-between-features-and-target-using-the-correlation-matrix/#:~:text=You%20can%20evaluate%20the%20relationship,the%20target%20variable%20or%20not."
      ],
      "metadata": {
        "id": "nCypJ7jL4s8v"
      }
    },
    {
      "cell_type": "markdown",
      "source": [
        "**END!**"
      ],
      "metadata": {
        "id": "9Yt_A57N89mH"
      }
    }
  ]
}